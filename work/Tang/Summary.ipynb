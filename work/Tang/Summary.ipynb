{
 "cells": [
  {
   "cell_type": "code",
   "execution_count": 1,
   "metadata": {
    "collapsed": true
   },
   "outputs": [],
   "source": [
    "import numpy as np\n",
    "import scipy\n",
    "import scipy.sparse"
   ]
  },
  {
   "cell_type": "code",
   "execution_count": 2,
   "metadata": {
    "collapsed": false
   },
   "outputs": [],
   "source": [
    "# Dense matrix\n",
    "A_numpy = np.random.uniform(-200000,200000, size = (100,200))\n",
    "B_numpy = np.random.uniform(-200000,200000, size = (200,300))\n",
    "A_list = list(A_numpy)\n",
    "B_list = list(B_numpy)\n",
    "A_sparse = scipy.sparse.lil_matrix(A_numpy)\n",
    "B_sparse = scipy.sparse.lil_matrix(B_numpy)\n",
    "\n",
    "# Sparse matrix (linked list sparse matrix)\n",
    "C_numpy = np.zeros((300,300))\n",
    "D_numpy = np.zeros((300,300))\n",
    "\n",
    "C_numpy[0, :100] = np.random.rand(100)\n",
    "C_numpy[1, 100:200] = C_numpy[0, :100]\n",
    "np.fill_diagonal(C_numpy, np.random.rand(1000))\n",
    "\n",
    "D_numpy[100, 100:300] = np.random.rand(200)\n",
    "D_numpy[100:200, 200] = np.random.rand(100)\n",
    "np.fill_diagonal(D_numpy, np.random.rand(1000))\n",
    "\n",
    "C_sparse = scipy.sparse.lil_matrix(C_numpy)\n",
    "D_sparse = scipy.sparse.lil_matrix(D_numpy)\n",
    "\n",
    "C_list = list(C_numpy)\n",
    "D_list = list(D_numpy)\n",
    "\n",
    "# Sparse matrix (large)\n",
    "E_numpy = np.zeros((10000,10000))\n",
    "F_numpy = np.zeros((10000,10000))\n",
    "\n",
    "E_numpy[0, :100] = np.random.rand(100)\n",
    "E_numpy[1, 100:200] = E_numpy[0, :100]\n",
    "np.fill_diagonal(E_numpy, np.random.rand(1000))\n",
    "\n",
    "F_numpy[100, 100:300] = np.random.rand(200)\n",
    "F_numpy[100:200, 200] = np.random.rand(100)\n",
    "np.fill_diagonal(F_numpy, np.random.rand(1000))\n",
    "\n",
    "E_sparse = scipy.sparse.lil_matrix(E_numpy)\n",
    "F_sparse = scipy.sparse.lil_matrix(F_numpy)"
   ]
  },
  {
   "cell_type": "code",
   "execution_count": 3,
   "metadata": {
    "collapsed": true
   },
   "outputs": [],
   "source": [
    "def dot_elementwise(matA, matB):\n",
    "    \"\"\"\n",
    "    2DarrayA.dot(2DarrayB)\n",
    "    \"\"\"\n",
    "    result = []\n",
    "\n",
    "    for i in xrange(len(matA)):\n",
    "        thisrow = []\n",
    "        for j in xrange(len(matB[0])):\n",
    "            element = 0\n",
    "            for k in xrange(len(matB)):\n",
    "                element += matA[i][k] * matB[k][j]\n",
    "            thisrow.append(element)\n",
    "        result.append(thisrow)\n",
    "\n",
    "    return result"
   ]
  },
  {
   "cell_type": "code",
   "execution_count": 4,
   "metadata": {
    "collapsed": true
   },
   "outputs": [],
   "source": [
    "%load_ext cython"
   ]
  },
  {
   "cell_type": "code",
   "execution_count": 5,
   "metadata": {
    "collapsed": true
   },
   "outputs": [],
   "source": [
    "%%cython\n",
    "cimport cython\n",
    "import numpy as np\n",
    "@cython.boundscheck(False)\n",
    "@cython.wraparound(False)\n",
    "cpdef dot_cython(double [:, :] A, double [:, :] B):\n",
    "    cdef int A_r = A.shape[0]\n",
    "    cdef int A_c = A.shape[1]\n",
    "    cdef int B_c = B.shape[1]\n",
    "    cdef int i,j,k\n",
    "    cdef double [:, :] out = np.zeros((A_r, B_c), dtype = np.float64)\n",
    "        \n",
    "    for i in xrange(A_r):\n",
    "        for j in xrange(B_c):\n",
    "            for k in xrange(A_c):\n",
    "                out[i,j] += A[i,k]*B[k,j]\n",
    "                \n",
    "    return np.asarray(out)"
   ]
  },
  {
   "cell_type": "code",
   "execution_count": 6,
   "metadata": {
    "collapsed": true
   },
   "outputs": [],
   "source": [
    "%%cython\n",
    "cimport cython\n",
    "from cython.parallel import prange\n",
    "import numpy as np\n",
    "@cython.boundscheck(False)\n",
    "@cython.wraparound(False)\n",
    "cpdef dot_cython_parallel(double [:, :] A, double [:, :] B):\n",
    "    cdef int A_r = A.shape[0]\n",
    "    cdef int A_c = A.shape[1]\n",
    "    cdef int B_c = B.shape[1]\n",
    "    cdef int i,j,k\n",
    "    cdef double [:, :] out = np.zeros((A_r, B_c), dtype = np.float64)\n",
    "    \n",
    "    for k in xrange(A_c):\n",
    "        for i in prange(A_r, nogil=True):\n",
    "            for j in prange(B_c):\n",
    "                out[i,j] += A[i,k]*B[k,j]\n",
    "                \n",
    "    return np.asarray(out)"
   ]
  },
  {
   "cell_type": "markdown",
   "metadata": {},
   "source": [
    "Dense Matrix:"
   ]
  },
  {
   "cell_type": "code",
   "execution_count": 11,
   "metadata": {
    "collapsed": false
   },
   "outputs": [
    {
     "name": "stdout",
     "output_type": "stream",
     "text": [
      "1 loops, best of 3: 2.53 s per loop\n"
     ]
    }
   ],
   "source": [
    "%%timeit\n",
    "result_dense_elementwise = dot_elementwise(A_list, B_list)"
   ]
  },
  {
   "cell_type": "code",
   "execution_count": 12,
   "metadata": {
    "collapsed": false
   },
   "outputs": [
    {
     "name": "stdout",
     "output_type": "stream",
     "text": [
      "100 loops, best of 3: 7.51 ms per loop\n"
     ]
    }
   ],
   "source": [
    "%%timeit\n",
    "result_dense_cython = dot_cython(A_numpy, B_numpy)"
   ]
  },
  {
   "cell_type": "code",
   "execution_count": 13,
   "metadata": {
    "collapsed": false
   },
   "outputs": [
    {
     "name": "stdout",
     "output_type": "stream",
     "text": [
      "100 loops, best of 3: 5.27 ms per loop\n"
     ]
    }
   ],
   "source": [
    "%%timeit\n",
    "result_dense_cython_parallel = dot_cython_parallel(A_numpy, B_numpy)"
   ]
  },
  {
   "cell_type": "code",
   "execution_count": 19,
   "metadata": {
    "collapsed": false
   },
   "outputs": [
    {
     "name": "stdout",
     "output_type": "stream",
     "text": [
      "1000 loops, best of 3: 213 µs per loop\n"
     ]
    }
   ],
   "source": [
    "%%timeit\n",
    "result_dense_numpy = A_numpy.dot(B_numpy)"
   ]
  },
  {
   "cell_type": "code",
   "execution_count": 15,
   "metadata": {
    "collapsed": false
   },
   "outputs": [
    {
     "name": "stdout",
     "output_type": "stream",
     "text": [
      "10 loops, best of 3: 21.7 ms per loop\n"
     ]
    }
   ],
   "source": [
    "%%timeit\n",
    "result_dense_scipysparse = A_sparse.dot(B_sparse)"
   ]
  },
  {
   "cell_type": "markdown",
   "metadata": {},
   "source": [
    "Sparse Matrix"
   ]
  },
  {
   "cell_type": "code",
   "execution_count": 16,
   "metadata": {
    "collapsed": false
   },
   "outputs": [
    {
     "name": "stdout",
     "output_type": "stream",
     "text": [
      "1 loops, best of 3: 11.5 s per loop\n"
     ]
    }
   ],
   "source": [
    "%%timeit\n",
    "result_dense_elementwise2 = dot_elementwise(C_list, D_list)"
   ]
  },
  {
   "cell_type": "code",
   "execution_count": 17,
   "metadata": {
    "collapsed": false
   },
   "outputs": [
    {
     "name": "stdout",
     "output_type": "stream",
     "text": [
      "10 loops, best of 3: 33.9 ms per loop\n"
     ]
    }
   ],
   "source": [
    "%%timeit\n",
    "result_dense_cython2 = dot_cython(C_numpy, D_numpy)"
   ]
  },
  {
   "cell_type": "code",
   "execution_count": 18,
   "metadata": {
    "collapsed": false
   },
   "outputs": [
    {
     "name": "stdout",
     "output_type": "stream",
     "text": [
      "10 loops, best of 3: 25 ms per loop\n"
     ]
    }
   ],
   "source": [
    "%%timeit\n",
    "result_dense_cython_parallel2 = dot_cython_parallel(C_numpy, D_numpy)"
   ]
  },
  {
   "cell_type": "code",
   "execution_count": 20,
   "metadata": {
    "collapsed": false
   },
   "outputs": [
    {
     "name": "stdout",
     "output_type": "stream",
     "text": [
      "1000 loops, best of 3: 934 µs per loop\n"
     ]
    }
   ],
   "source": [
    "%%timeit\n",
    "result_dense_numpy2 = C_numpy.dot(D_numpy)"
   ]
  },
  {
   "cell_type": "code",
   "execution_count": 21,
   "metadata": {
    "collapsed": false
   },
   "outputs": [
    {
     "name": "stdout",
     "output_type": "stream",
     "text": [
      "1000 loops, best of 3: 734 µs per loop\n"
     ]
    }
   ],
   "source": [
    "%%timeit\n",
    "result_dense_scipysparse2 = C_sparse.dot(D_sparse)"
   ]
  },
  {
   "cell_type": "markdown",
   "metadata": {},
   "source": [
    "Large Sparse"
   ]
  },
  {
   "cell_type": "code",
   "execution_count": 8,
   "metadata": {
    "collapsed": false
   },
   "outputs": [
    {
     "name": "stdout",
     "output_type": "stream",
     "text": [
      "CPU times: user 53.5 s, sys: 1.24 s, total: 54.7 s\n",
      "Wall time: 28.2 s\n"
     ]
    }
   ],
   "source": [
    "%%time\n",
    "result_dense_numpy3 = E_numpy.dot(F_numpy)"
   ]
  },
  {
   "cell_type": "code",
   "execution_count": 9,
   "metadata": {
    "collapsed": false
   },
   "outputs": [
    {
     "name": "stdout",
     "output_type": "stream",
     "text": [
      "100 loops, best of 3: 10.9 ms per loop\n"
     ]
    }
   ],
   "source": [
    "%%timeit\n",
    "result_dense_scipysparse3 = E_sparse.dot(F_sparse)"
   ]
  },
  {
   "cell_type": "markdown",
   "metadata": {},
   "source": [
    "---"
   ]
  },
  {
   "cell_type": "code",
   "execution_count": null,
   "metadata": {
    "collapsed": true
   },
   "outputs": [],
   "source": []
  }
 ],
 "metadata": {
  "kernelspec": {
   "display_name": "Python 2",
   "language": "python",
   "name": "python2"
  },
  "language_info": {
   "codemirror_mode": {
    "name": "ipython",
    "version": 2
   },
   "file_extension": ".py",
   "mimetype": "text/x-python",
   "name": "python",
   "nbconvert_exporter": "python",
   "pygments_lexer": "ipython2",
   "version": "2.7.11"
  }
 },
 "nbformat": 4,
 "nbformat_minor": 0
}
