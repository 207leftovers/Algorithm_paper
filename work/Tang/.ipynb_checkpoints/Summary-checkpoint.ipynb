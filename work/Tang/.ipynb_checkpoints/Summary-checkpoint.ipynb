{
 "cells": [
  {
   "cell_type": "code",
   "execution_count": 3,
   "metadata": {
    "collapsed": true
   },
   "outputs": [],
   "source": [
    "import numpy as np\n",
    "import scipy\n",
    "import scipy.sparse"
   ]
  },
  {
   "cell_type": "code",
   "execution_count": 4,
   "metadata": {
    "collapsed": false
   },
   "outputs": [],
   "source": [
    "# Dense matrix\n",
    "A_numpy = np.random.uniform(-200000,200000, size = (100,200))\n",
    "B_numpy = np.random.uniform(-200000,200000, size = (200,300))\n",
    "A_list = list(A_numpy)\n",
    "B_list = list(B_numpy)\n",
    "\n",
    "# Sparse matrix (linked list sparse matrix)\n",
    "C_numpy = np.zeros((300,300))\n",
    "D_numpy = np.zeros((300,300))\n",
    "\n",
    "C_numpy[0, :100] = np.random.rand(100)\n",
    "C_numpy[1, 100:200] = C_numpy[0, :100]\n",
    "np.fill_diagonal(C_numpy, np.random.rand(1000))\n",
    "\n",
    "D_numpy[100, 100:300] = np.random.rand(200)\n",
    "D_numpy[100:200, 200] = np.random.rand(100)\n",
    "np.fill_diagonal(D_numpy, np.random.rand(1000))\n",
    "\n",
    "C_sparse = scipy.sparse.lil_matrix(C_numpy)\n",
    "D_sparse = scipy.sparse.lil_matrix(D_numpy)\n",
    "\n",
    "C_list = list(C_numpy)\n",
    "D_list = list(D_numpy)\n",
    "\n",
    "# Sparse matrix (large)\n",
    "E_numpy = np.zeros((10000,10000))\n",
    "F_numpy = np.zeros((10000,10000))\n",
    "\n",
    "E_numpy[0, :100] = np.random.rand(100)\n",
    "E_numpy[1, 100:200] = E_numpy[0, :100]\n",
    "np.fill_diagonal(E_numpy, np.random.rand(1000))\n",
    "\n",
    "F_numpy[100, 100:300] = np.random.rand(200)\n",
    "F_numpy[100:200, 200] = np.random.rand(100)\n",
    "np.fill_diagonal(F_numpy, np.random.rand(1000))\n",
    "\n",
    "E_sparse = scipy.sparse.lil_matrix(E_numpy)\n",
    "F_sparse = scipy.sparse.lil_matrix(F_numpy)"
   ]
  },
  {
   "cell_type": "code",
   "execution_count": 5,
   "metadata": {
    "collapsed": true
   },
   "outputs": [],
   "source": [
    "def dot_elementwise(matA, matB):\n",
    "    \"\"\"\n",
    "    2DarrayA.dot(2DarrayB)\n",
    "    \"\"\"\n",
    "    result = []\n",
    "\n",
    "    for i in xrange(len(matA)):\n",
    "        thisrow = []\n",
    "        for j in xrange(len(matB[0])):\n",
    "            element = 0\n",
    "            for k in xrange(len(matB)):\n",
    "                element += matA[i][k] * matB[k][j]\n",
    "            thisrow.append(element)\n",
    "        result.append(thisrow)\n",
    "\n",
    "    return result"
   ]
  },
  {
   "cell_type": "code",
   "execution_count": 6,
   "metadata": {
    "collapsed": true
   },
   "outputs": [],
   "source": [
    "%load_ext cython"
   ]
  },
  {
   "cell_type": "code",
   "execution_count": 8,
   "metadata": {
    "collapsed": true
   },
   "outputs": [],
   "source": [
    "%%cython\n",
    "cimport cython\n",
    "import numpy as np\n",
    "@cython.boundscheck(False)\n",
    "@cython.wraparound(False)\n",
    "cpdef dot_cython(double [:, :] A, double [:, :] B):\n",
    "    cdef int A_r = A.shape[0]\n",
    "    cdef int A_c = A.shape[1]\n",
    "    cdef int B_c = B.shape[1]\n",
    "    cdef int i,j,k\n",
    "    cdef double [:, :] out = np.zeros((A_r, B_c), dtype = np.float64)\n",
    "        \n",
    "    for i in xrange(A_r):\n",
    "        for j in xrange(B_c):\n",
    "            for k in xrange(A_c):\n",
    "                out[i,j] += A[i,k]*B[k,j]\n",
    "                \n",
    "    return np.asarray(out)"
   ]
  },
  {
   "cell_type": "code",
   "execution_count": 9,
   "metadata": {
    "collapsed": true
   },
   "outputs": [],
   "source": [
    "%%cython\n",
    "cimport cython\n",
    "from cython.parallel import prange\n",
    "import numpy as np\n",
    "@cython.boundscheck(False)\n",
    "@cython.wraparound(False)\n",
    "cpdef dot_cython_parallel(double [:, :] A, double [:, :] B):\n",
    "    cdef int A_r = A.shape[0]\n",
    "    cdef int A_c = A.shape[1]\n",
    "    cdef int B_c = B.shape[1]\n",
    "    cdef int i,j,k\n",
    "    cdef double [:, :] out = np.zeros((A_r, B_c), dtype = np.float64)\n",
    "    \n",
    "    for k in xrange(A_c):\n",
    "        for i in prange(A_r, nogil=True):\n",
    "            for j in prange(B_c):\n",
    "                out[i,j] += A[i,k]*B[k,j]\n",
    "                \n",
    "    return np.asarray(out)"
   ]
  },
  {
   "cell_type": "markdown",
   "metadata": {},
   "source": [
    "Dense Matrix:"
   ]
  },
  {
   "cell_type": "code",
   "execution_count": null,
   "metadata": {
    "collapsed": true
   },
   "outputs": [],
   "source": [
    "%%timeit\n",
    "dot_elementwise(A_list, B_list)"
   ]
  }
 ],
 "metadata": {
  "kernelspec": {
   "display_name": "Python 2",
   "language": "python",
   "name": "python2"
  },
  "language_info": {
   "codemirror_mode": {
    "name": "ipython",
    "version": 2
   },
   "file_extension": ".py",
   "mimetype": "text/x-python",
   "name": "python",
   "nbconvert_exporter": "python",
   "pygments_lexer": "ipython2",
   "version": "2.7.11"
  }
 },
 "nbformat": 4,
 "nbformat_minor": 0
}
