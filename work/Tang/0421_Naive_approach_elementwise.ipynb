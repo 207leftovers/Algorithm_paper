{
 "cells": [
  {
   "cell_type": "code",
   "execution_count": 1,
   "metadata": {
    "collapsed": false
   },
   "outputs": [],
   "source": [
    "class Matrix(object):\n",
    "    \n",
    "    def __init__(self, array):\n",
    "        \"\"\"\n",
    "        Something like Matrix([[1,2],[3,4]])\n",
    "        \"\"\"\n",
    "        self.shape = self._getShape(array)\n",
    "        self.matrix = array\n",
    "        \n",
    "    # Get shape from 2D array\n",
    "    # Exception when it is not generated 2D. eg. [1,2,3] should be [[1,2,3]] or [[1], [2], [3]]\n",
    "    def _getShape(self, array):\n",
    "        try:\n",
    "            l1 = len(array)\n",
    "            l2 = [len(e) for e in array]\n",
    "            \n",
    "            try:\n",
    "                len(array[0][0])\n",
    "                raise ValueError, 'Matrix size error.'\n",
    "            except:\n",
    "                \n",
    "                if all([i==l2[0] for i in l2]):\n",
    "                    return (l1,l2[0])\n",
    "                else:\n",
    "                    raise ValueError, 'Matrix size error.'\n",
    "        except:\n",
    "            raise ValueError, 'Matrix size error.'\n",
    "            \n",
    "            \n",
    "    def dot_elementwise(self, matB):\n",
    "        \"\"\"\n",
    "        matrixA.dot(matrixB)\n",
    "        \"\"\"\n",
    "        \n",
    "        assert self.shape[1] == matB.shape[0]\n",
    "        \n",
    "        result = []\n",
    "        \n",
    "        for i in xrange(self.shape[0]):\n",
    "            thisrow = []\n",
    "            for j in xrange(matB.shape[1]):\n",
    "                element = 0\n",
    "                for k in xrange(self.shape[1]):\n",
    "                    element += self.matrix[i][k] * matB.matrix[k][j]\n",
    "                thisrow.append(element)\n",
    "            result.append(thisrow)\n",
    "            \n",
    "        return result"
   ]
  },
  {
   "cell_type": "markdown",
   "metadata": {},
   "source": [
    "---\n",
    "TESTING"
   ]
  },
  {
   "cell_type": "code",
   "execution_count": 11,
   "metadata": {
    "collapsed": false
   },
   "outputs": [],
   "source": [
    "import numpy as np"
   ]
  },
  {
   "cell_type": "code",
   "execution_count": 12,
   "metadata": {
    "collapsed": true
   },
   "outputs": [],
   "source": [
    "import scipy"
   ]
  },
  {
   "cell_type": "code",
   "execution_count": 73,
   "metadata": {
    "collapsed": false
   },
   "outputs": [],
   "source": [
    "A_numpy = np.random.uniform(-200000,200000, size = (100,200))\n",
    "B_numpy = np.random.uniform(-200000,200000, size = (200,300))\n",
    "A = list(A_numpy)\n",
    "B = list(B_numpy)"
   ]
  },
  {
   "cell_type": "code",
   "execution_count": 17,
   "metadata": {
    "collapsed": false
   },
   "outputs": [
    {
     "name": "stdout",
     "output_type": "stream",
     "text": [
      "5 loops, best of 1: 3.07 s per loop\n"
     ]
    }
   ],
   "source": [
    "%%timeit -r 1 -n 5 \n",
    "A_mat = Matrix(A)\n",
    "B_mat = Matrix(B)\n",
    "\n",
    "result_elementwise = A_mat.dot_elementwise(B_mat)"
   ]
  },
  {
   "cell_type": "code",
   "execution_count": 16,
   "metadata": {
    "collapsed": false
   },
   "outputs": [
    {
     "name": "stdout",
     "output_type": "stream",
     "text": [
      "1000 loops, best of 3: 388 µs per loop\n"
     ]
    }
   ],
   "source": [
    "%%timeit\n",
    "result_numpy = np.array(A).dot(np.array(B))"
   ]
  },
  {
   "cell_type": "code",
   "execution_count": 9,
   "metadata": {
    "collapsed": false
   },
   "outputs": [
    {
     "data": {
      "text/plain": [
       "-43337490270.891144"
      ]
     },
     "execution_count": 9,
     "metadata": {},
     "output_type": "execute_result"
    }
   ],
   "source": [
    "result_elementwise[40][40]"
   ]
  },
  {
   "cell_type": "code",
   "execution_count": 10,
   "metadata": {
    "collapsed": false,
    "scrolled": true
   },
   "outputs": [
    {
     "data": {
      "text/plain": [
       "-43337490270.891006"
      ]
     },
     "execution_count": 10,
     "metadata": {},
     "output_type": "execute_result"
    }
   ],
   "source": [
    "result_numpy[40][40]"
   ]
  },
  {
   "cell_type": "code",
   "execution_count": 15,
   "metadata": {
    "collapsed": false,
    "scrolled": true
   },
   "outputs": [
    {
     "name": "stdout",
     "output_type": "stream",
     "text": [
      "1000 loops, best of 3: 408 µs per loop\n"
     ]
    }
   ],
   "source": [
    "%%timeit\n",
    "result_scipy = scipy.dot(np.array(A), np.array(B))"
   ]
  },
  {
   "cell_type": "code",
   "execution_count": 6,
   "metadata": {
    "collapsed": false
   },
   "outputs": [
    {
     "name": "stdout",
     "output_type": "stream",
     "text": [
      "Overwriting MatrixDot.py\n"
     ]
    }
   ],
   "source": [
    "%%file MatrixDot.py\n",
    "import time\n",
    "import numpy as np\n",
    "\n",
    "class Matrix(object):\n",
    "    \n",
    "    def __init__(self, array):\n",
    "        \"\"\"\n",
    "        Something like Matrix([[1,2],[3,4]])\n",
    "        \"\"\"\n",
    "        self.shape = self._getShape(array)\n",
    "        self.matrix = array\n",
    "        \n",
    "    # Get shape from 2D array\n",
    "    # Exception when it is not generated 2D. eg. [1,2,3] should be [[1,2,3]] or [[1], [2], [3]]\n",
    "    def _getShape(self, array):\n",
    "        try:\n",
    "            l1 = len(array)\n",
    "            l2 = [len(e) for e in array]\n",
    "            \n",
    "            try:\n",
    "                len(array[0][0])\n",
    "                raise ValueError, 'Matrix size error.'\n",
    "            except:\n",
    "                \n",
    "                if all([i==l2[0] for i in l2]):\n",
    "                    return (l1,l2[0])\n",
    "                else:\n",
    "                    raise ValueError, 'Matrix size error.'\n",
    "        except:\n",
    "            raise ValueError, 'Matrix size error.'\n",
    "            \n",
    "            \n",
    "    def dot_elementwise(self, matB):\n",
    "        \"\"\"\n",
    "        matrixA.dot(matrixB)\n",
    "        \"\"\"\n",
    "        \n",
    "        assert self.shape[1] == matB.shape[0]\n",
    "        \n",
    "        result = []\n",
    "        \n",
    "        for i in xrange(self.shape[0]):\n",
    "            thisrow = []\n",
    "            for j in xrange(matB.shape[1]):\n",
    "                element = 0\n",
    "                for k in xrange(self.shape[1]):\n",
    "                    element += self.matrix[i][k] * matB.matrix[k][j]\n",
    "                thisrow.append(element)\n",
    "            result.append(thisrow)\n",
    "            \n",
    "        return result\n",
    "    \n",
    "    \n",
    "\n",
    "def timeit(method):\n",
    "\n",
    "    def timed(*args, **kw):\n",
    "        ts = time.time()\n",
    "        result = method(*args, **kw)\n",
    "        te = time.time()\n",
    "\n",
    "        print '%r %d nanoseconds' % \\\n",
    "              (method.__name__, int((te-ts)*1e9))\n",
    "        return result\n",
    "\n",
    "    return timed\n",
    "\n",
    "if __name__ == '__main__':\n",
    "    A_numpy = np.random.uniform(-200000,200000, size = (100,200))\n",
    "    B_numpy = np.random.uniform(-200000,200000, size = (200,300))\n",
    "    A = list(A_numpy)\n",
    "    B = list(B_numpy)\n",
    "    \n",
    "    @timeit\n",
    "    def naive_multiplication(A, B):\n",
    "        A_mat = Matrix(A)\n",
    "        B_mat = Matrix(B)\n",
    "\n",
    "        return A_mat.dot_elementwise(B_mat)\n",
    "    \n",
    "    @timeit\n",
    "    def numpy_multiplication(A, B):\n",
    "        return np.array(A).dot(np.array(B))\n",
    "    \n",
    "    naive_result = naive_multiplication(A,B)\n",
    "    numpy_result = numpy_multiplication(A,B)\n",
    "    \n",
    "    print 'Approximately equal: ', np.allclose(naive_result, numpy_result)"
   ]
  },
  {
   "cell_type": "markdown",
   "metadata": {},
   "source": [
    "---\n",
    "No class."
   ]
  },
  {
   "cell_type": "code",
   "execution_count": 65,
   "metadata": {
    "collapsed": true
   },
   "outputs": [],
   "source": [
    "def dot_elementwise(matA, matB):\n",
    "    \"\"\"\n",
    "    2DarrayA.dot(2DarrayB)\n",
    "    \"\"\"\n",
    "    result = []\n",
    "\n",
    "    for i in xrange(len(matA)):\n",
    "        thisrow = []\n",
    "        for j in xrange(len(matB[0])):\n",
    "            element = 0\n",
    "            for k in xrange(len(matB)):\n",
    "                element += matA[i][k] * matB[k][j]\n",
    "            thisrow.append(element)\n",
    "        result.append(thisrow)\n",
    "\n",
    "    return result"
   ]
  },
  {
   "cell_type": "code",
   "execution_count": 22,
   "metadata": {
    "collapsed": false
   },
   "outputs": [
    {
     "name": "stdout",
     "output_type": "stream",
     "text": [
      "5 loops, best of 1: 2.55 s per loop\n"
     ]
    }
   ],
   "source": [
    "%timeit -r 1 -n 5 result_elementwise = dot_elementwise(A,B)"
   ]
  },
  {
   "cell_type": "code",
   "execution_count": 7,
   "metadata": {
    "collapsed": true
   },
   "outputs": [],
   "source": [
    "%load_ext cython"
   ]
  },
  {
   "cell_type": "markdown",
   "metadata": {},
   "source": [
    "---"
   ]
  },
  {
   "cell_type": "code",
   "execution_count": 29,
   "metadata": {
    "collapsed": false
   },
   "outputs": [],
   "source": [
    "%%cython\n",
    "cimport cython\n",
    "import numpy as np\n",
    "@cython.boundscheck(False)\n",
    "@cython.wraparound(False)\n",
    "cpdef matmult_cython(double [:, :] A, double [:, :] B):\n",
    "    cdef int A_r = A.shape[0]\n",
    "    cdef int A_c = A.shape[1]\n",
    "    cdef int B_c = B.shape[1]\n",
    "    cdef int i,j,k\n",
    "    cdef double [:, :] out = np.zeros((A_r, B_c), dtype = np.float64)\n",
    "        \n",
    "    for i in xrange(A_r):\n",
    "        for j in xrange(B_c):\n",
    "            for k in xrange(A_c):\n",
    "                out[i,j] += A[i,k]*B[k,j]\n",
    "                \n",
    "    return np.asarray(out)"
   ]
  },
  {
   "cell_type": "code",
   "execution_count": 112,
   "metadata": {
    "collapsed": false
   },
   "outputs": [
    {
     "name": "stdout",
     "output_type": "stream",
     "text": [
      "100 loops, best of 3: 7.62 ms per loop\n"
     ]
    }
   ],
   "source": [
    "%%timeit\n",
    "result_cython = matmult_cython(A_numpy, B_numpy)"
   ]
  },
  {
   "cell_type": "code",
   "execution_count": 109,
   "metadata": {
    "collapsed": false
   },
   "outputs": [],
   "source": [
    "%%cython\n",
    "cimport cython\n",
    "from cython.parallel import prange\n",
    "import numpy as np\n",
    "@cython.boundscheck(False)\n",
    "@cython.wraparound(False)\n",
    "cpdef matmult_cython_parallel(double [:, :] A, double [:, :] B):\n",
    "    cdef int A_r = A.shape[0]\n",
    "    cdef int A_c = A.shape[1]\n",
    "    cdef int B_c = B.shape[1]\n",
    "    cdef int i,j,k\n",
    "    cdef double [:, :] out = np.zeros((A_r, B_c), dtype = np.float64)\n",
    "    \n",
    "    for k in xrange(A_c):\n",
    "        for i in prange(A_r, nogil=True):\n",
    "            for j in prange(B_c):\n",
    "                out[i,j] += A[i,k]*B[k,j]\n",
    "                \n",
    "    return np.asarray(out)"
   ]
  },
  {
   "cell_type": "code",
   "execution_count": 111,
   "metadata": {
    "collapsed": false
   },
   "outputs": [
    {
     "name": "stdout",
     "output_type": "stream",
     "text": [
      "100 loops, best of 3: 5.08 ms per loop\n"
     ]
    }
   ],
   "source": [
    "%%timeit\n",
    "result_cython_nogil = matmult_cython_parallel(A_numpy, B_numpy)"
   ]
  },
  {
   "cell_type": "code",
   "execution_count": 101,
   "metadata": {
    "collapsed": false
   },
   "outputs": [
    {
     "data": {
      "text/plain": [
       "array([[  6.36191402e+08,   2.22132519e+11,  -2.79592054e+11, ...,\n",
       "         -2.22906794e+10,   7.88357701e+10,   1.30086789e+11],\n",
       "       [ -1.18771689e+11,   2.23051789e+11,  -1.73408033e+11, ...,\n",
       "         -8.54073387e+10,   1.23154439e+11,   2.46231018e+11],\n",
       "       [ -1.45719274e+11,  -1.44160061e+11,  -8.10746268e+09, ...,\n",
       "          1.83310934e+11,  -2.64976078e+11,   2.14193086e+11],\n",
       "       ..., \n",
       "       [ -4.99774769e+10,  -8.58822617e+10,  -9.97633016e+10, ...,\n",
       "          1.87151491e+11,  -1.75830311e+11,   3.52469845e+11],\n",
       "       [ -1.78350407e+10,   1.60520152e+11,  -2.04594568e+11, ...,\n",
       "          1.38718602e+11,  -3.45032028e+11,   4.19130309e+10],\n",
       "       [  1.22438351e+11,   7.95520627e+10,   1.43327388e+11, ...,\n",
       "         -1.24207389e+11,   3.98324175e+11,  -9.26538801e+10]])"
      ]
     },
     "execution_count": 101,
     "metadata": {},
     "output_type": "execute_result"
    }
   ],
   "source": [
    "result_cython"
   ]
  },
  {
   "cell_type": "code",
   "execution_count": 94,
   "metadata": {
    "collapsed": false
   },
   "outputs": [
    {
     "data": {
      "text/plain": [
       "array([[  6.36191402e+08,   2.22132519e+11,  -2.79592054e+11, ...,\n",
       "         -2.22906794e+10,   7.88357701e+10,   1.30086789e+11],\n",
       "       [ -1.18771689e+11,   2.23051789e+11,  -1.73408033e+11, ...,\n",
       "         -8.54073387e+10,   1.23154439e+11,   2.46231018e+11],\n",
       "       [ -1.45719274e+11,  -1.44160061e+11,  -8.10746268e+09, ...,\n",
       "          1.83310934e+11,  -2.64976078e+11,   2.14193086e+11],\n",
       "       ..., \n",
       "       [ -4.99774769e+10,  -8.58822617e+10,  -9.97633016e+10, ...,\n",
       "          1.87151491e+11,  -1.75830311e+11,   3.52469845e+11],\n",
       "       [ -1.78350407e+10,   1.60520152e+11,  -2.04594568e+11, ...,\n",
       "          1.38718602e+11,  -3.45032028e+11,   4.19130309e+10],\n",
       "       [  1.22438351e+11,   7.95520627e+10,   1.43327388e+11, ...,\n",
       "         -1.24207389e+11,   3.98324175e+11,  -9.26538801e+10]])"
      ]
     },
     "execution_count": 94,
     "metadata": {},
     "output_type": "execute_result"
    }
   ],
   "source": [
    "result_cython_nogil"
   ]
  },
  {
   "cell_type": "code",
   "execution_count": 102,
   "metadata": {
    "collapsed": true
   },
   "outputs": [],
   "source": [
    "result_numpy = np.array(A).dot(np.array(B))"
   ]
  },
  {
   "cell_type": "code",
   "execution_count": 105,
   "metadata": {
    "collapsed": false
   },
   "outputs": [
    {
     "data": {
      "text/plain": [
       "True"
      ]
     },
     "execution_count": 105,
     "metadata": {},
     "output_type": "execute_result"
    }
   ],
   "source": [
    "np.allclose(result_numpy, result_cython_nogil)"
   ]
  },
  {
   "cell_type": "markdown",
   "metadata": {},
   "source": [
    "---"
   ]
  },
  {
   "cell_type": "code",
   "execution_count": 32,
   "metadata": {
    "collapsed": true
   },
   "outputs": [],
   "source": [
    "import scipy"
   ]
  },
  {
   "cell_type": "code",
   "execution_count": 77,
   "metadata": {
    "collapsed": false
   },
   "outputs": [],
   "source": [
    "# Construct sparse matrix (linked list sparse matrix)\n",
    "C_numpy = np.zeros((300,300))\n",
    "D_numpy = np.zeros((300,300))\n",
    "\n",
    "\n",
    "C_numpy[0, :100] = np.random.rand(100)\n",
    "C_numpy[1, 100:200] = C_numpy[0, :100]\n",
    "np.fill_diagonal(C_numpy, np.random.rand(1000))\n",
    "\n",
    "D_numpy[100, 100:300] = np.random.rand(200)\n",
    "D_numpy[100:200, 200] = np.random.rand(100)\n",
    "np.fill_diagonal(D_numpy, np.random.rand(1000))\n",
    "\n",
    "C_sparse = scipy.sparse.lil_matrix(C_numpy)\n",
    "D_sparse = scipy.sparse.lil_matrix(D_numpy)\n",
    "\n",
    "C = list(C_numpy)\n",
    "D = list(D_numpy)"
   ]
  },
  {
   "cell_type": "code",
   "execution_count": 78,
   "metadata": {
    "collapsed": false
   },
   "outputs": [
    {
     "name": "stdout",
     "output_type": "stream",
     "text": [
      "1000 loops, best of 3: 839 µs per loop\n"
     ]
    }
   ],
   "source": [
    "%%timeit\n",
    "sparse_np = C_numpy.dot(D_numpy)"
   ]
  },
  {
   "cell_type": "code",
   "execution_count": 79,
   "metadata": {
    "collapsed": false
   },
   "outputs": [
    {
     "name": "stdout",
     "output_type": "stream",
     "text": [
      "1000 loops, best of 3: 696 µs per loop\n"
     ]
    }
   ],
   "source": [
    "%%timeit\n",
    "sparse_scipy = C_sparse.dot(D_sparse)"
   ]
  },
  {
   "cell_type": "code",
   "execution_count": 85,
   "metadata": {
    "collapsed": false
   },
   "outputs": [
    {
     "name": "stdout",
     "output_type": "stream",
     "text": [
      "10 loops, best of 3: 33.5 ms per loop\n"
     ]
    }
   ],
   "source": [
    "%%timeit\n",
    "matmult_cython(C_numpy, D_numpy)"
   ]
  },
  {
   "cell_type": "code",
   "execution_count": 80,
   "metadata": {
    "collapsed": false
   },
   "outputs": [
    {
     "name": "stdout",
     "output_type": "stream",
     "text": [
      "CPU times: user 11.3 s, sys: 30.3 ms, total: 11.3 s\n",
      "Wall time: 11.3 s\n"
     ]
    }
   ],
   "source": [
    "%%time\n",
    "sparse_elementwise = dot_elementwise(C, D)"
   ]
  },
  {
   "cell_type": "code",
   "execution_count": 81,
   "metadata": {
    "collapsed": true
   },
   "outputs": [],
   "source": [
    "E_numpy = np.zeros((10000,10000))\n",
    "F_numpy = np.zeros((10000,10000))\n",
    "\n",
    "E_numpy[0, :100] = np.random.rand(100)\n",
    "E_numpy[1, 100:200] = E_numpy[0, :100]\n",
    "np.fill_diagonal(E_numpy, np.random.rand(1000))\n",
    "\n",
    "F_numpy[100, 100:300] = np.random.rand(200)\n",
    "F_numpy[100:200, 200] = np.random.rand(100)\n",
    "np.fill_diagonal(F_numpy, np.random.rand(1000))\n",
    "\n",
    "E_sparse = scipy.sparse.lil_matrix(E_numpy)\n",
    "F_sparse = scipy.sparse.lil_matrix(F_numpy)"
   ]
  },
  {
   "cell_type": "code",
   "execution_count": 82,
   "metadata": {
    "collapsed": false
   },
   "outputs": [
    {
     "name": "stdout",
     "output_type": "stream",
     "text": [
      "CPU times: user 53.8 s, sys: 404 ms, total: 54.2 s\n",
      "Wall time: 27.7 s\n"
     ]
    }
   ],
   "source": [
    "%%time\n",
    "sparse_large_np = E_numpy.dot(F_numpy)"
   ]
  },
  {
   "cell_type": "code",
   "execution_count": 83,
   "metadata": {
    "collapsed": false
   },
   "outputs": [
    {
     "name": "stdout",
     "output_type": "stream",
     "text": [
      "CPU times: user 14.5 ms, sys: 2.13 ms, total: 16.6 ms\n",
      "Wall time: 22.9 ms\n"
     ]
    }
   ],
   "source": [
    "%%time\n",
    "sparse_large_scipy = E_sparse.dot(F_sparse)"
   ]
  },
  {
   "cell_type": "code",
   "execution_count": 113,
   "metadata": {
    "collapsed": true
   },
   "outputs": [],
   "source": [
    "A_sparse = scipy.sparse.lil_matrix(A_numpy)\n",
    "B_sparse = scipy.sparse.lil_matrix(B_numpy)"
   ]
  },
  {
   "cell_type": "code",
   "execution_count": 116,
   "metadata": {
    "collapsed": false
   },
   "outputs": [
    {
     "name": "stdout",
     "output_type": "stream",
     "text": [
      "CPU times: user 23.8 ms, sys: 2.85 ms, total: 26.7 ms\n",
      "Wall time: 25.8 ms\n"
     ]
    }
   ],
   "source": [
    "%%time\n",
    "dense_scipy = A_sparse.dot(B_sparse)"
   ]
  },
  {
   "cell_type": "code",
   "execution_count": null,
   "metadata": {
    "collapsed": true
   },
   "outputs": [],
   "source": []
  }
 ],
 "metadata": {
  "kernelspec": {
   "display_name": "Python 2",
   "language": "python",
   "name": "python2"
  },
  "language_info": {
   "codemirror_mode": {
    "name": "ipython",
    "version": 2
   },
   "file_extension": ".py",
   "mimetype": "text/x-python",
   "name": "python",
   "nbconvert_exporter": "python",
   "pygments_lexer": "ipython2",
   "version": "2.7.11"
  }
 },
 "nbformat": 4,
 "nbformat_minor": 0
}
