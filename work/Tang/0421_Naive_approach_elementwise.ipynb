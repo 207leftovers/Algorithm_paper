{
 "cells": [
  {
   "cell_type": "code",
   "execution_count": 1,
   "metadata": {
    "collapsed": false
   },
   "outputs": [],
   "source": [
    "class Matrix(object):\n",
    "    \n",
    "    def __init__(self, array):\n",
    "        \"\"\"\n",
    "        Something like Matrix([[1,2],[3,4]])\n",
    "        \"\"\"\n",
    "        self.shape = self._getShape(array)\n",
    "        self.matrix = array\n",
    "        \n",
    "    # Get shape from 2D array\n",
    "    # Exception when it is not generated 2D. eg. [1,2,3] should be [[1,2,3]] or [[1], [2], [3]]\n",
    "    def _getShape(self, array):\n",
    "        try:\n",
    "            l1 = len(array)\n",
    "            l2 = [len(e) for e in array]\n",
    "            \n",
    "            try:\n",
    "                len(array[0][0])\n",
    "                raise ValueError, 'Matrix size error.'\n",
    "            except:\n",
    "                \n",
    "                if all([i==l2[0] for i in l2]):\n",
    "                    return (l1,l2[0])\n",
    "                else:\n",
    "                    raise ValueError, 'Matrix size error.'\n",
    "        except:\n",
    "            raise ValueError, 'Matrix size error.'\n",
    "            \n",
    "            \n",
    "    def dot_elementwise(self, matB):\n",
    "        \"\"\"\n",
    "        matrixA.dot(matrixB)\n",
    "        \"\"\"\n",
    "        \n",
    "        assert self.shape[1] == matB.shape[0]\n",
    "        \n",
    "        result = []\n",
    "        \n",
    "        for i in xrange(self.shape[0]):\n",
    "            thisrow = []\n",
    "            for j in xrange(matB.shape[1]):\n",
    "                element = 0\n",
    "                for k in xrange(self.shape[1]):\n",
    "                    element += self.matrix[i][k] * matB.matrix[k][j]\n",
    "                thisrow.append(element)\n",
    "            result.append(thisrow)\n",
    "            \n",
    "        return result"
   ]
  },
  {
   "cell_type": "markdown",
   "metadata": {},
   "source": [
    "---\n",
    "TESTING"
   ]
  },
  {
   "cell_type": "code",
   "execution_count": 2,
   "metadata": {
    "collapsed": false
   },
   "outputs": [],
   "source": [
    "import numpy as np"
   ]
  },
  {
   "cell_type": "code",
   "execution_count": 12,
   "metadata": {
    "collapsed": true
   },
   "outputs": [],
   "source": [
    "import scipy"
   ]
  },
  {
   "cell_type": "code",
   "execution_count": 3,
   "metadata": {
    "collapsed": true
   },
   "outputs": [],
   "source": [
    "A_numpy = np.random.uniform(-200000,200000, size = (100,200))\n",
    "B_numpy = np.random.uniform(-200000,200000, size = (200,300))\n",
    "A = list(A_numpy)\n",
    "B = list(B_numpy)"
   ]
  },
  {
   "cell_type": "code",
   "execution_count": 17,
   "metadata": {
    "collapsed": false
   },
   "outputs": [
    {
     "name": "stdout",
     "output_type": "stream",
     "text": [
      "5 loops, best of 1: 3.07 s per loop\n"
     ]
    }
   ],
   "source": [
    "%%timeit -r 1 -n 5 \n",
    "A_mat = Matrix(A)\n",
    "B_mat = Matrix(B)\n",
    "\n",
    "result_elementwise = A_mat.dot_elementwise(B_mat)"
   ]
  },
  {
   "cell_type": "code",
   "execution_count": 16,
   "metadata": {
    "collapsed": false
   },
   "outputs": [
    {
     "name": "stdout",
     "output_type": "stream",
     "text": [
      "1000 loops, best of 3: 388 µs per loop\n"
     ]
    }
   ],
   "source": [
    "%%timeit\n",
    "result_numpy = np.array(A).dot(np.array(B))"
   ]
  },
  {
   "cell_type": "code",
   "execution_count": 9,
   "metadata": {
    "collapsed": false
   },
   "outputs": [
    {
     "data": {
      "text/plain": [
       "-43337490270.891144"
      ]
     },
     "execution_count": 9,
     "metadata": {},
     "output_type": "execute_result"
    }
   ],
   "source": [
    "result_elementwise[40][40]"
   ]
  },
  {
   "cell_type": "code",
   "execution_count": 10,
   "metadata": {
    "collapsed": false,
    "scrolled": true
   },
   "outputs": [
    {
     "data": {
      "text/plain": [
       "-43337490270.891006"
      ]
     },
     "execution_count": 10,
     "metadata": {},
     "output_type": "execute_result"
    }
   ],
   "source": [
    "result_numpy[40][40]"
   ]
  },
  {
   "cell_type": "code",
   "execution_count": 15,
   "metadata": {
    "collapsed": false,
    "scrolled": true
   },
   "outputs": [
    {
     "name": "stdout",
     "output_type": "stream",
     "text": [
      "1000 loops, best of 3: 408 µs per loop\n"
     ]
    }
   ],
   "source": [
    "%%timeit\n",
    "result_scipy = scipy.dot(np.array(A), np.array(B))"
   ]
  },
  {
   "cell_type": "code",
   "execution_count": 19,
   "metadata": {
    "collapsed": false
   },
   "outputs": [
    {
     "name": "stdout",
     "output_type": "stream",
     "text": [
      "Writing MatrixDot.py\n"
     ]
    }
   ],
   "source": [
    "%%file MatrixDot.py\n",
    "class Matrix(object):\n",
    "    \n",
    "    def __init__(self, array):\n",
    "        \"\"\"\n",
    "        Something like Matrix([[1,2],[3,4]])\n",
    "        \"\"\"\n",
    "        self.shape = self._getShape(array)\n",
    "        self.matrix = array\n",
    "        \n",
    "    # Get shape from 2D array\n",
    "    # Exception when it is not generated 2D. eg. [1,2,3] should be [[1,2,3]] or [[1], [2], [3]]\n",
    "    def _getShape(self, array):\n",
    "        try:\n",
    "            l1 = len(array)\n",
    "            l2 = [len(e) for e in array]\n",
    "            \n",
    "            try:\n",
    "                len(array[0][0])\n",
    "                raise ValueError, 'Matrix size error.'\n",
    "            except:\n",
    "                \n",
    "                if all([i==l2[0] for i in l2]):\n",
    "                    return (l1,l2[0])\n",
    "                else:\n",
    "                    raise ValueError, 'Matrix size error.'\n",
    "        except:\n",
    "            raise ValueError, 'Matrix size error.'\n",
    "            \n",
    "            \n",
    "    def dot_elementwise(self, matB):\n",
    "        \"\"\"\n",
    "        matrixA.dot(matrixB)\n",
    "        \"\"\"\n",
    "        \n",
    "        assert self.shape[1] == matB.shape[0]\n",
    "        \n",
    "        result = []\n",
    "        \n",
    "        for i in xrange(self.shape[0]):\n",
    "            thisrow = []\n",
    "            for j in xrange(matB.shape[1]):\n",
    "                element = 0\n",
    "                for k in xrange(self.shape[1]):\n",
    "                    element += self.matrix[i][k] * matB.matrix[k][j]\n",
    "                thisrow.append(element)\n",
    "            result.append(thisrow)\n",
    "            \n",
    "        return result"
   ]
  },
  {
   "cell_type": "code",
   "execution_count": null,
   "metadata": {
    "collapsed": true
   },
   "outputs": [],
   "source": []
  }
 ],
 "metadata": {
  "kernelspec": {
   "display_name": "Python 2",
   "language": "python",
   "name": "python2"
  },
  "language_info": {
   "codemirror_mode": {
    "name": "ipython",
    "version": 2
   },
   "file_extension": ".py",
   "mimetype": "text/x-python",
   "name": "python",
   "nbconvert_exporter": "python",
   "pygments_lexer": "ipython2",
   "version": "2.7.11"
  }
 },
 "nbformat": 4,
 "nbformat_minor": 0
}
